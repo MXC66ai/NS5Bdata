{
 "cells": [
  {
   "cell_type": "code",
   "execution_count": 1,
   "id": "855e27aa",
   "metadata": {},
   "outputs": [],
   "source": [
    "from rdkit.Chem.rdMolAlign import CalcRMS \n",
    "from rdkit import Chem\n",
    "from rdkit.Chem import AllChem\n",
    "from pathlib import Path\n",
    "\n"
   ]
  },
  {
   "cell_type": "code",
   "execution_count": 2,
   "id": "29ba09fa",
   "metadata": {},
   "outputs": [],
   "source": [
    "import pandas as pd"
   ]
  },
  {
   "cell_type": "code",
   "execution_count": 3,
   "id": "3cdf3e0f",
   "metadata": {},
   "outputs": [],
   "source": [
    "HERE = Path(_dh[-1])"
   ]
  },
  {
   "cell_type": "code",
   "execution_count": 48,
   "id": "3a6e1f6b",
   "metadata": {},
   "outputs": [
    {
     "name": "stdout",
     "output_type": "stream",
     "text": [
      "2_5\n",
      "6_7\n",
      "10_6\n",
      "11_7\n",
      "12_8\n",
      "14_6\n",
      "18_7\n",
      "22_4\n",
      "23_5\n",
      "24_7\n",
      "25_8\n",
      "27_7\n",
      "29_8\n",
      "30_7\n",
      "31_4\n",
      "34_6\n",
      "35_7\n",
      "37_7\n",
      "38_7\n",
      "39_7\n",
      "40_7\n",
      "41_4\n",
      "42_6\n",
      "43_6\n",
      "44_6\n",
      "47_7\n",
      "48_7\n",
      "49_6\n",
      "50_4\n",
      "51_8\n",
      "53_5\n",
      "54_4\n",
      "57_5\n",
      "59_6\n",
      "60_5\n",
      "62_8\n",
      "63_7\n",
      "67_6\n",
      "68_8\n",
      "70_6\n"
     ]
    }
   ],
   "source": [
    "HERE = Path(_dh[-1])\n",
    "DATA = HERE /\"CHEMBL1140265\"\n",
    "df = pd.DataFrame(columns=['molecule1', 'molecule2', 'rmsd'])\n",
    "\n",
    "for i in range(1,72):\n",
    "    for j in range(0,9):\n",
    "        file1 = DATA / f\"CHEMBL1140265_{i}_{j}.pdb\"\n",
    "        file2 = DATA / f\"CHEMBL1140265_{i}_{j+1}.pdb\"\n",
    "        try:\n",
    "            mol1 = Chem.MolFromPDBFile(str(file1))\n",
    "            mol2 = Chem.MolFromPDBFile(str(file2))\n",
    "            rmsd=CalcRMS(mol1, mol2)\n",
    "            df.loc[i] = [f\"{i}_{j}\",f\"{i}_{j+1}\",rmsd]\n",
    "            df.to_csv('./CHEMBL1140265/rmsd_0265.csv', mode='a', index=False, header=False)\n",
    "        except:\n",
    "            print(f\"{i}_{j}\")"
   ]
  },
  {
   "cell_type": "code",
   "execution_count": 58,
   "id": "b760bfac",
   "metadata": {},
   "outputs": [],
   "source": [
    "DATA = HERE /\"CHEMBL1145278\"\n",
    "df5278 = pd.DataFrame(columns=['molecule1', 'molecule2', 'rmsd'])\n",
    "l=0\n",
    "for i in range(1,164):\n",
    "    for j in range(0,9):\n",
    "        file1 = DATA / f\"CHEMBL1145278_{i}_{j}.pdb\"\n",
    "        file2 = DATA / f\"CHEMBL1145278_{i}_{j+1}.pdb\"\n",
    "        try:\n",
    "            mol1 = Chem.MolFromPDBFile(str(file1))\n",
    "            mol2 = Chem.MolFromPDBFile(str(file2))\n",
    "            rmsd=CalcRMS(mol1, mol2)\n",
    "            df5278.loc[l] = [f\"{i}_{j}\",f\"{i}_{j+1}\",rmsd]\n",
    "            l=l+1\n",
    "        except:\n",
    "            df5278.loc[l] = [f\"{i}_{j}\",f\"{i}_{j+1}\",'NaN']\n",
    "            l=l+1\n",
    "df5278.to_csv('./CHEMBL1145278/rmsd_78.csv', mode='a', index=False, header=False)"
   ]
  },
  {
   "cell_type": "code",
   "execution_count": 50,
   "id": "e22a3267",
   "metadata": {},
   "outputs": [],
   "source": [
    "DATA = HERE /\"CHEMBL1147722\"\n",
    "df5278 = pd.DataFrame(columns=['molecule1', 'molecule2', 'rmsd'])\n",
    "\n",
    "for i in range(1,28):\n",
    "    for j in range(0,9):\n",
    "        file1 = DATA / f\"CHEMBL1147722_{i}_{j}.pdb\"\n",
    "        file2 = DATA / f\"CHEMBL1147722_{i}_{j+1}.pdb\"\n",
    "        try:\n",
    "            mol1 = Chem.MolFromPDBFile(str(file1))\n",
    "            mol2 = Chem.MolFromPDBFile(str(file2))\n",
    "            rmsd=CalcRMS(mol1, mol2)\n",
    "            df5278.loc[i] = [f\"{i}_{j}\",f\"{i}_{j+1}\",rmsd]\n",
    "            df5278.to_csv('./CHEMBL1147722/rmsd_7722.csv', mode='a', index=False, header=False)\n",
    "        except:\n",
    "            print(f\"{i}_{j}\")"
   ]
  },
  {
   "cell_type": "code",
   "execution_count": 53,
   "id": "ff0ea301",
   "metadata": {},
   "outputs": [
    {
     "name": "stdout",
     "output_type": "stream",
     "text": [
      "1_7\n",
      "1_8\n",
      "3_7\n",
      "3_8\n",
      "5_6\n",
      "5_7\n",
      "5_8\n",
      "8_8\n",
      "9_7\n",
      "9_8\n",
      "10_8\n",
      "11_8\n",
      "13_7\n",
      "13_8\n",
      "14_8\n",
      "15_6\n",
      "15_7\n",
      "15_8\n",
      "16_7\n",
      "16_8\n",
      "21_8\n"
     ]
    }
   ],
   "source": [
    "DATA = HERE /\"CHEMBL1148590\"\n",
    "df5278 = pd.DataFrame(columns=['molecule1', 'molecule2', 'rmsd'])\n",
    "\n",
    "for i in range(1,25):\n",
    "    for j in range(0,9):\n",
    "        file1 = DATA / f\"CHEMBL1148590_{i}_{j}.pdb\"\n",
    "        file2 = DATA / f\"CHEMBL1148590_{i}_{j+1}.pdb\"\n",
    "        try:\n",
    "            mol1 = Chem.MolFromPDBFile(str(file1))\n",
    "            mol2 = Chem.MolFromPDBFile(str(file2))\n",
    "            rmsd=CalcRMS(mol1, mol2)\n",
    "            df5278.loc[i] = [f\"{i}_{j}\",f\"{i}_{j+1}\",rmsd]\n",
    "            df5278.to_csv('./CHEMBL1148590/rmsd_8590.csv', mode='a', index=False, header=False)\n",
    "        except:\n",
    "            print(f\"{i}_{j}\")"
   ]
  }
 ],
 "metadata": {
  "kernelspec": {
   "display_name": "Python 3 (ipykernel)",
   "language": "python",
   "name": "python3"
  },
  "language_info": {
   "codemirror_mode": {
    "name": "ipython",
    "version": 3
   },
   "file_extension": ".py",
   "mimetype": "text/x-python",
   "name": "python",
   "nbconvert_exporter": "python",
   "pygments_lexer": "ipython3",
   "version": "3.9.12"
  }
 },
 "nbformat": 4,
 "nbformat_minor": 5
}
