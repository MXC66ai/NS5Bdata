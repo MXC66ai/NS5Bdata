{
 "cells": [
  {
   "cell_type": "code",
   "execution_count": 1,
   "id": "82b33a18",
   "metadata": {},
   "outputs": [
    {
     "data": {
      "application/vnd.jupyter.widget-view+json": {
       "model_id": "c13f70f3e5b24428b016b3b522e9c152",
       "version_major": 2,
       "version_minor": 0
      },
      "text/plain": []
     },
     "metadata": {},
     "output_type": "display_data"
    }
   ],
   "source": [
    "# import libraries\n",
    "import warnings\n",
    "from pathlib import Path\n",
    "import subprocess\n",
    "\n",
    "import nglview as nv\n",
    "from openbabel import pybel\n",
    "\n",
    "from opencadd.structure.core import Structure"
   ]
  },
  {
   "cell_type": "code",
   "execution_count": 2,
   "id": "ebb2ff57",
   "metadata": {},
   "outputs": [],
   "source": [
    "# filter warnings\n",
    "warnings.filterwarnings(\"ignore\")\n",
    "ob_log_handler = pybel.ob.OBMessageHandler()\n",
    "pybel.ob.obErrorLog.SetOutputLevel(0)"
   ]
  },
  {
   "cell_type": "code",
   "execution_count": 3,
   "id": "3a2aeab5",
   "metadata": {},
   "outputs": [],
   "source": [
    "# define paths\n",
    "HERE = Path(_dh[-1])\n",
    "DATA = HERE / \"3MF5\""
   ]
  },
  {
   "cell_type": "code",
   "execution_count": 4,
   "id": "dcd893d5",
   "metadata": {},
   "outputs": [
    {
     "data": {
      "text/plain": [
       "<Universe with 9429 atoms>"
      ]
     },
     "execution_count": 4,
     "metadata": {},
     "output_type": "execute_result"
    }
   ],
   "source": [
    "# retrieve structure from the Protein Data Bank\n",
    "pdb_id = \"3MF5\"\n",
    "structure = Structure.from_pdbid(pdb_id)\n",
    "# element information maybe missing, but important for subsequent PDBQT conversion\n",
    "if not hasattr(structure.atoms, \"elements\"):\n",
    "    structure.add_TopologyAttr(\"elements\", structure.atoms.types)\n",
    "structure\n",
    "# NBVAL_CHECK_OUTPUT"
   ]
  },
  {
   "cell_type": "code",
   "execution_count": 5,
   "id": "247728ec",
   "metadata": {},
   "outputs": [],
   "source": [
    "# write the protein file to disk\n",
    "protein = structure.select_atoms(\"protein\")\n",
    "protein.write(DATA / \"3MF5protein.pdb\")"
   ]
  },
  {
   "cell_type": "code",
   "execution_count": 6,
   "id": "da00aa6c",
   "metadata": {},
   "outputs": [],
   "source": [
    "def pdb_to_pdbqt(pdb_path, pdbqt_path, pH=7.4):\n",
    "    \"\"\"\n",
    "    Convert a PDB file to a PDBQT file needed by docking programs of the AutoDock family.\n",
    "\n",
    "    Parameters\n",
    "    ----------\n",
    "    pdb_path: str or pathlib.Path\n",
    "        Path to input PDB file.\n",
    "    pdbqt_path: str or pathlib.path\n",
    "        Path to output PDBQT file.\n",
    "    pH: float\n",
    "        Protonation at given pH.\n",
    "    \"\"\"\n",
    "    molecule = list(pybel.readfile(\"pdb\", str(pdb_path)))[0]\n",
    "    # add hydrogens at given pH\n",
    "    molecule.OBMol.CorrectForPH(pH)\n",
    "    molecule.addh()\n",
    "    # add partial charges to each atom\n",
    "    for atom in molecule.atoms:\n",
    "        atom.OBAtom.GetPartialCharge()\n",
    "    molecule.write(\"pdbqt\", str(pdbqt_path), overwrite=True)\n",
    "    return"
   ]
  },
  {
   "cell_type": "code",
   "execution_count": 7,
   "id": "761a5159",
   "metadata": {},
   "outputs": [],
   "source": [
    "# convert protein to PDBQT format\n",
    "pdb_to_pdbqt(DATA / \"3MF5protein.pdb\", DATA / \"3MF5.pdbqt\")"
   ]
  },
  {
   "cell_type": "code",
   "execution_count": 8,
   "id": "b45b4f5d",
   "metadata": {},
   "outputs": [],
   "source": [
    "#Canonical SMILES\n",
    "smiles = \"C[C@@H]1CC[C@H](CC1)c1ccccc1c1cc(sc1C(=O)O)c1ccccc1\""
   ]
  },
  {
   "cell_type": "code",
   "execution_count": 9,
   "id": "e7dfdcd9",
   "metadata": {},
   "outputs": [],
   "source": [
    "def smiles_to_pdbqt(smiles, pdbqt_path, pH=7.4):\n",
    "    \"\"\"\n",
    "    Convert a SMILES string to a PDBQT file needed by docking programs of the AutoDock family.\n",
    "\n",
    "    Parameters\n",
    "    ----------\n",
    "    smiles: str\n",
    "        SMILES string.\n",
    "    pdbqt_path: str or pathlib.path\n",
    "        Path to output PDBQT file.\n",
    "    pH: float\n",
    "        Protonation at given pH.\n",
    "    \"\"\"\n",
    "    molecule = pybel.readstring(\"smi\", smiles)\n",
    "    # add hydrogens at given pH\n",
    "    molecule.OBMol.CorrectForPH(pH)\n",
    "    molecule.addh()\n",
    "    # generate 3D coordinates\n",
    "    molecule.make3D(forcefield=\"mmff94s\", steps=10000)\n",
    "    # add partial charges to each atom\n",
    "    for atom in molecule.atoms:\n",
    "        atom.OBAtom.GetPartialCharge()\n",
    "    molecule.write(\"pdbqt\", str(pdbqt_path), overwrite=True)\n",
    "    return"
   ]
  },
  {
   "cell_type": "code",
   "execution_count": 10,
   "id": "3afd4562",
   "metadata": {},
   "outputs": [],
   "source": [
    "# convert the ligand into PDBQT format\n",
    "smiles_to_pdbqt(smiles, DATA / \"3MF5ligandHJZ.pdbqt\")"
   ]
  },
  {
   "cell_type": "code",
   "execution_count": 11,
   "id": "504acf9d",
   "metadata": {},
   "outputs": [],
   "source": [
    "ligand_resname = \"HJZ\"\n",
    "ligand = structure.select_atoms(f\"resname {ligand_resname}\")\n",
    "pocket_center = (ligand.positions.max(axis=0) + ligand.positions.min(axis=0)) / 2\n",
    "pocket_size = ligand.positions.max(axis=0) - ligand.positions.min(axis=0) + 5"
   ]
  },
  {
   "cell_type": "code",
   "execution_count": 12,
   "id": "2b4fa7fb",
   "metadata": {},
   "outputs": [],
   "source": [
    "def run_smina(\n",
    "    ligand_path, protein_path, out_path, pocket_center, pocket_size, num_poses=10, exhaustiveness=8\n",
    "):\n",
    "    \"\"\"\n",
    "    Perform docking with Smina.\n",
    "\n",
    "    Parameters\n",
    "    ----------\n",
    "    ligand_path: str or pathlib.Path\n",
    "        Path to ligand PDBQT file that should be docked.\n",
    "    protein_path: str or pathlib.Path\n",
    "        Path to protein PDBQT file that should be docked to.\n",
    "    out_path: str or pathlib.Path\n",
    "        Path to which docking poses should be saved, SDF or PDB format.\n",
    "    pocket_center: iterable of float or int\n",
    "        Coordinates defining the center of the binding site.\n",
    "    pocket_size: iterable of float or int\n",
    "        Lengths of edges defining the binding site.\n",
    "    num_poses: int\n",
    "        Maximum number of poses to generate.\n",
    "    exhaustiveness: int\n",
    "        Accuracy of docking calculations.\n",
    "\n",
    "    Returns\n",
    "    -------\n",
    "    output_text: str\n",
    "        The output of the Smina calculation.\n",
    "    \"\"\"\n",
    "    output_text = subprocess.check_output(\n",
    "        [\n",
    "            \"smina\",\n",
    "            \"--ligand\",\n",
    "            str(ligand_path),\n",
    "            \"--receptor\",\n",
    "            str(protein_path),\n",
    "            \"--out\",\n",
    "            str(out_path),\n",
    "            \"--center_x\",\n",
    "            str(pocket_center[0]),\n",
    "            \"--center_y\",\n",
    "            str(pocket_center[1]),\n",
    "            \"--center_z\",\n",
    "            str(pocket_center[2]),\n",
    "            \"--size_x\",\n",
    "            str(pocket_size[0]),\n",
    "            \"--size_y\",\n",
    "            str(pocket_size[1]),\n",
    "            \"--size_z\",\n",
    "            str(pocket_size[2]),\n",
    "            \"--num_modes\",\n",
    "            str(num_poses),\n",
    "            \"--exhaustiveness\",\n",
    "            str(exhaustiveness),\n",
    "        ],\n",
    "        universal_newlines=True,  # needed to capture output text\n",
    "    )\n",
    "    return output_text"
   ]
  },
  {
   "cell_type": "code",
   "execution_count": 13,
   "id": "a3efb29f",
   "metadata": {},
   "outputs": [
    {
     "name": "stdout",
     "output_type": "stream",
     "text": [
      "   _______  _______ _________ _        _______ \n",
      "  (  ____ \\(       )\\__   __/( (    /|(  ___  )\n",
      "  | (    \\/| () () |   ) (   |  \\  ( || (   ) |\n",
      "  | (_____ | || || |   | |   |   \\ | || (___) |\n",
      "  (_____  )| |(_)| |   | |   | (\\ \\) ||  ___  |\n",
      "        ) || |   | |   | |   | | \\   || (   ) |\n",
      "  /\\____) || )   ( |___) (___| )  \\  || )   ( |\n",
      "  \\_______)|/     \\|\\_______/|/    )_)|/     \\|\n",
      "\n",
      "\n",
      "smina is based off AutoDock Vina. Please cite appropriately.\n",
      "\n",
      "Weights      Terms\n",
      "-0.035579    gauss(o=0,_w=0.5,_c=8)\n",
      "-0.005156    gauss(o=3,_w=2,_c=8)\n",
      "0.840245     repulsion(o=0,_c=8)\n",
      "-0.035069    hydrophobic(g=0.5,_b=1.5,_c=8)\n",
      "-0.587439    non_dir_h_bond(g=-0.7,_b=0,_c=8)\n",
      "1.923        num_tors_div\n",
      "\n",
      "Using random seed: -1323016932\n",
      "\n",
      "0%   10   20   30   40   50   60   70   80   90   100%\n",
      "|----|----|----|----|----|----|----|----|----|----|\n",
      "***************************************************\n",
      "\n",
      "mode |   affinity | dist from best mode\n",
      "     | (kcal/mol) | rmsd l.b.| rmsd u.b.\n",
      "-----+------------+----------+----------\n",
      "1       -8.8       0.000      0.000    \n",
      "2       -8.5       2.245      4.592    \n",
      "3       -8.4       2.833      3.589    \n",
      "4       -8.4       14.618     17.926   \n",
      "5       -8.3       2.458      4.333    \n",
      "6       -8.3       1.532      4.250    \n",
      "7       -8.3       2.943      5.815    \n",
      "8       -8.1       13.469     15.992   \n",
      "9       -7.8       3.009      7.032    \n",
      "10      -7.6       16.677     19.825   \n",
      "Refine time 8.473\n",
      "Loop time 18.178\n",
      "\n"
     ]
    }
   ],
   "source": [
    "output_text = run_smina(\n",
    "    DATA / \"3MF5ligandHJZ.pdbqt\",\n",
    "    DATA / \"3MF5.pdbqt\",\n",
    "    DATA / \"3MF5docking_poses.sdf\",\n",
    "    pocket_center,\n",
    "    pocket_size,\n",
    ")\n",
    "print(output_text)"
   ]
  },
  {
   "cell_type": "code",
   "execution_count": 14,
   "id": "9ce6252c",
   "metadata": {},
   "outputs": [],
   "source": [
    "def split_sdf_file(sdf_path):\n",
    "    \"\"\"\n",
    "    Split an SDF file into seperate files for each molecule.\n",
    "    Each file is named with consecutive numbers.\n",
    "\n",
    "    Parameters\n",
    "    ----------\n",
    "    sdf_path: str or pathlib.Path\n",
    "        Path to SDF file that should be split.\n",
    "    \"\"\"\n",
    "    sdf_path = Path(sdf_path)\n",
    "    stem = sdf_path.stem\n",
    "    parent = sdf_path.parent\n",
    "    molecules = pybel.readfile(\"sdf\", str(sdf_path))\n",
    "    for i, molecule in enumerate(molecules, 1):\n",
    "        molecule.write(\"sdf\", str(parent / f\"{stem}_{i}.sdf\"), overwrite=True)\n",
    "    return"
   ]
  },
  {
   "cell_type": "code",
   "execution_count": 15,
   "id": "859ab0aa",
   "metadata": {},
   "outputs": [],
   "source": [
    "split_sdf_file(DATA / \"3MF5docking_poses.sdf\")"
   ]
  },
  {
   "cell_type": "code",
   "execution_count": 16,
   "id": "e3beb797",
   "metadata": {},
   "outputs": [
    {
     "data": {
      "application/vnd.jupyter.widget-view+json": {
       "model_id": "c0b94aa572ea424bb1e71841ddd06f27",
       "version_major": 2,
       "version_minor": 0
      },
      "text/plain": [
       "NGLWidget()"
      ]
     },
     "metadata": {},
     "output_type": "display_data"
    }
   ],
   "source": [
    "docking_pose_id = 1\n",
    "view = nv.show_structure_file(\n",
    "    str(DATA / f\"3MF5docking_poses_{docking_pose_id}.sdf\"),\n",
    "    representations=[{\"params\": {}, \"type\": \"licorice\"}],\n",
    ")\n",
    "view.add_pdbid(pdb_id)\n",
    "view"
   ]
  },
  {
   "cell_type": "code",
   "execution_count": 17,
   "id": "1911a3b3",
   "metadata": {},
   "outputs": [],
   "source": [
    "view.render_image(trim=True, factor=2);"
   ]
  },
  {
   "cell_type": "code",
   "execution_count": 18,
   "id": "a3f351e6",
   "metadata": {},
   "outputs": [
    {
     "data": {
      "image/png": "\n",
      "text/plain": [
       "<IPython.core.display.Image object>"
      ]
     },
     "execution_count": 18,
     "metadata": {},
     "output_type": "execute_result"
    }
   ],
   "source": [
    "view._display_image()"
   ]
  },
  {
   "cell_type": "code",
   "execution_count": null,
   "id": "7ba08740",
   "metadata": {},
   "outputs": [],
   "source": []
  }
 ],
 "metadata": {
  "kernelspec": {
   "display_name": "Python 3 (ipykernel)",
   "language": "python",
   "name": "python3"
  },
  "language_info": {
   "codemirror_mode": {
    "name": "ipython",
    "version": 3
   },
   "file_extension": ".py",
   "mimetype": "text/x-python",
   "name": "python",
   "nbconvert_exporter": "python",
   "pygments_lexer": "ipython3",
   "version": "3.8.13"
  }
 },
 "nbformat": 4,
 "nbformat_minor": 5
}
