{
 "cells": [
  {
   "cell_type": "code",
   "execution_count": 2,
   "id": "82b33a18",
   "metadata": {},
   "outputs": [],
   "source": [
    "# import libraries\n",
    "import warnings\n",
    "from pathlib import Path\n",
    "import subprocess\n",
    "\n",
    "#import nglview as nv\n",
    "from openbabel import pybel\n",
    "\n",
    "from opencadd.structure.core import Structure"
   ]
  },
  {
   "cell_type": "code",
   "execution_count": 3,
   "id": "1b0a40a4",
   "metadata": {},
   "outputs": [],
   "source": [
    "import numpy as np"
   ]
  },
  {
   "cell_type": "code",
   "execution_count": 3,
   "id": "ebb2ff57",
   "metadata": {},
   "outputs": [],
   "source": [
    "# filter warnings\n",
    "warnings.filterwarnings(\"ignore\")\n",
    "ob_log_handler = pybel.ob.OBMessageHandler()\n",
    "pybel.ob.obErrorLog.SetOutputLevel(0)"
   ]
  },
  {
   "cell_type": "code",
   "execution_count": 21,
   "id": "3a2aeab5",
   "metadata": {},
   "outputs": [],
   "source": [
    "# define paths\n",
    "HERE = Path(_dh[-1])\n",
    "DATA = HERE / \"3GNW\""
   ]
  },
  {
   "cell_type": "code",
   "execution_count": 5,
   "id": "dcd893d5",
   "metadata": {},
   "outputs": [
    {
     "data": {
      "text/plain": [
       "<Universe with 5009 atoms>"
      ]
     },
     "execution_count": 5,
     "metadata": {},
     "output_type": "execute_result"
    }
   ],
   "source": [
    "# retrieve structure from the Protein Data Bank\n",
    "pdb_id = \"1os5\"\n",
    "structure = Structure.from_pdbid(pdb_id)\n",
    "# element information maybe missing, but important for subsequent PDBQT conversion\n",
    "if not hasattr(structure.atoms, \"elements\"):\n",
    "    structure.add_TopologyAttr(\"elements\", structure.atoms.types)\n",
    "structure\n",
    "# NBVAL_CHECK_OUTPUT"
   ]
  },
  {
   "cell_type": "code",
   "execution_count": 6,
   "id": "247728ec",
   "metadata": {},
   "outputs": [],
   "source": [
    "# write the protein file to disk\n",
    "protein = structure.select_atoms(\"protein\")\n",
    "protein.write(DATA / \"1os5protein.pdb\")"
   ]
  },
  {
   "cell_type": "code",
   "execution_count": 7,
   "id": "da00aa6c",
   "metadata": {},
   "outputs": [],
   "source": [
    "def pdb_to_pdbqt(pdb_path, pdbqt_path, pH=7.4):\n",
    "    \"\"\"\n",
    "    Convert a PDB file to a PDBQT file needed by docking programs of the AutoDock family.\n",
    "\n",
    "    Parameters\n",
    "    ----------\n",
    "    pdb_path: str or pathlib.Path\n",
    "        Path to input PDB file.\n",
    "    pdbqt_path: str or pathlib.path\n",
    "        Path to output PDBQT file.\n",
    "    pH: float\n",
    "        Protonation at given pH.\n",
    "    \"\"\"\n",
    "    molecule = list(pybel.readfile(\"pdb\", str(pdb_path)))[0]\n",
    "    # add hydrogens at given pH\n",
    "    molecule.OBMol.CorrectForPH(pH)\n",
    "    molecule.addh()\n",
    "    # add partial charges to each atom\n",
    "    for atom in molecule.atoms:\n",
    "        atom.OBAtom.GetPartialCharge()\n",
    "    molecule.write(\"pdbqt\", str(pdbqt_path), overwrite=True)\n",
    "    return"
   ]
  },
  {
   "cell_type": "code",
   "execution_count": 8,
   "id": "761a5159",
   "metadata": {},
   "outputs": [
    {
     "ename": "OSError",
     "evalue": "No such file: '/home/mxc/jupyterWorkspace/smina_cmd/1OS5/1os5.pdb'",
     "output_type": "error",
     "traceback": [
      "\u001b[0;31m---------------------------------------------------------------------------\u001b[0m",
      "\u001b[0;31mOSError\u001b[0m                                   Traceback (most recent call last)",
      "Input \u001b[0;32mIn [8]\u001b[0m, in \u001b[0;36m<cell line: 2>\u001b[0;34m()\u001b[0m\n\u001b[1;32m      1\u001b[0m \u001b[38;5;66;03m# convert protein to PDBQT format\u001b[39;00m\n\u001b[0;32m----> 2\u001b[0m \u001b[43mpdb_to_pdbqt\u001b[49m\u001b[43m(\u001b[49m\u001b[43mDATA\u001b[49m\u001b[43m \u001b[49m\u001b[38;5;241;43m/\u001b[39;49m\u001b[43m \u001b[49m\u001b[38;5;124;43m\"\u001b[39;49m\u001b[38;5;124;43m1os5.pdb\u001b[39;49m\u001b[38;5;124;43m\"\u001b[39;49m\u001b[43m,\u001b[49m\u001b[43m \u001b[49m\u001b[43mDATA\u001b[49m\u001b[43m \u001b[49m\u001b[38;5;241;43m/\u001b[39;49m\u001b[43m \u001b[49m\u001b[38;5;124;43m\"\u001b[39;49m\u001b[38;5;124;43m1os5.pdbqt\u001b[39;49m\u001b[38;5;124;43m\"\u001b[39;49m\u001b[43m)\u001b[49m\n",
      "Input \u001b[0;32mIn [7]\u001b[0m, in \u001b[0;36mpdb_to_pdbqt\u001b[0;34m(pdb_path, pdbqt_path, pH)\u001b[0m\n\u001b[1;32m      1\u001b[0m \u001b[38;5;28;01mdef\u001b[39;00m \u001b[38;5;21mpdb_to_pdbqt\u001b[39m(pdb_path, pdbqt_path, pH\u001b[38;5;241m=\u001b[39m\u001b[38;5;241m7.4\u001b[39m):\n\u001b[1;32m      2\u001b[0m     \u001b[38;5;124;03m\"\"\"\u001b[39;00m\n\u001b[1;32m      3\u001b[0m \u001b[38;5;124;03m    Convert a PDB file to a PDBQT file needed by docking programs of the AutoDock family.\u001b[39;00m\n\u001b[1;32m      4\u001b[0m \n\u001b[0;32m   (...)\u001b[0m\n\u001b[1;32m     12\u001b[0m \u001b[38;5;124;03m        Protonation at given pH.\u001b[39;00m\n\u001b[1;32m     13\u001b[0m \u001b[38;5;124;03m    \"\"\"\u001b[39;00m\n\u001b[0;32m---> 14\u001b[0m     molecule \u001b[38;5;241m=\u001b[39m \u001b[38;5;28mlist\u001b[39m(\u001b[43mpybel\u001b[49m\u001b[38;5;241;43m.\u001b[39;49m\u001b[43mreadfile\u001b[49m\u001b[43m(\u001b[49m\u001b[38;5;124;43m\"\u001b[39;49m\u001b[38;5;124;43mpdb\u001b[39;49m\u001b[38;5;124;43m\"\u001b[39;49m\u001b[43m,\u001b[49m\u001b[43m \u001b[49m\u001b[38;5;28;43mstr\u001b[39;49m\u001b[43m(\u001b[49m\u001b[43mpdb_path\u001b[49m\u001b[43m)\u001b[49m\u001b[43m)\u001b[49m)[\u001b[38;5;241m0\u001b[39m]\n\u001b[1;32m     15\u001b[0m     \u001b[38;5;66;03m# add hydrogens at given pH\u001b[39;00m\n\u001b[1;32m     16\u001b[0m     molecule\u001b[38;5;241m.\u001b[39mOBMol\u001b[38;5;241m.\u001b[39mCorrectForPH(pH)\n",
      "File \u001b[0;32m~/anaconda3/envs/opencadd/lib/python3.8/site-packages/openbabel/pybel.py:158\u001b[0m, in \u001b[0;36mreadfile\u001b[0;34m(format, filename, opt)\u001b[0m\n\u001b[1;32m    156\u001b[0m     \u001b[38;5;28;01mraise\u001b[39;00m \u001b[38;5;167;01mValueError\u001b[39;00m(\u001b[38;5;124m\"\u001b[39m\u001b[38;5;132;01m%s\u001b[39;00m\u001b[38;5;124m is not a recognised Open Babel format\u001b[39m\u001b[38;5;124m\"\u001b[39m \u001b[38;5;241m%\u001b[39m \u001b[38;5;28mformat\u001b[39m)\n\u001b[1;32m    157\u001b[0m \u001b[38;5;28;01mif\u001b[39;00m \u001b[38;5;129;01mnot\u001b[39;00m os\u001b[38;5;241m.\u001b[39mpath\u001b[38;5;241m.\u001b[39misfile(filename):\n\u001b[0;32m--> 158\u001b[0m     \u001b[38;5;28;01mraise\u001b[39;00m \u001b[38;5;167;01mIOError\u001b[39;00m(\u001b[38;5;124m\"\u001b[39m\u001b[38;5;124mNo such file: \u001b[39m\u001b[38;5;124m'\u001b[39m\u001b[38;5;132;01m%s\u001b[39;00m\u001b[38;5;124m'\u001b[39m\u001b[38;5;124m\"\u001b[39m \u001b[38;5;241m%\u001b[39m filename)\n\u001b[1;32m    160\u001b[0m \u001b[38;5;28;01mdef\u001b[39;00m \u001b[38;5;21mfilereader\u001b[39m():\n\u001b[1;32m    161\u001b[0m     obmol \u001b[38;5;241m=\u001b[39m ob\u001b[38;5;241m.\u001b[39mOBMol()\n",
      "\u001b[0;31mOSError\u001b[0m: No such file: '/home/mxc/jupyterWorkspace/smina_cmd/1OS5/1os5.pdb'"
     ]
    }
   ],
   "source": [
    "# convert protein to PDBQT format\n",
    "pdb_to_pdbqt(DATA / \"1os5.pdb\", DATA / \"1os5.pdbqt\")"
   ]
  },
  {
   "cell_type": "code",
   "execution_count": null,
   "id": "b45b4f5d",
   "metadata": {},
   "outputs": [],
   "source": [
    "#Canonical SMILES\n",
    "smiles = \"CC1=CC(=C(C=C1N)C(C)(C)C)SC2=C(CC(OC2=O)(CCC3=CC=C(C=C3)O)C4CCCC4)O\""
   ]
  },
  {
   "cell_type": "code",
   "execution_count": null,
   "id": "e7dfdcd9",
   "metadata": {},
   "outputs": [],
   "source": [
    "def smiles_to_pdbqt(smiles, pdbqt_path, pH=7.4):\n",
    "    \"\"\"\n",
    "    Convert a SMILES string to a PDBQT file needed by docking programs of the AutoDock family.\n",
    "\n",
    "    Parameters\n",
    "    ----------\n",
    "    smiles: str\n",
    "        SMILES string.\n",
    "    pdbqt_path: str or pathlib.path\n",
    "        Path to output PDBQT file.\n",
    "    pH: float\n",
    "        Protonation at given pH.\n",
    "    \"\"\"\n",
    "    molecule = pybel.readstring(\"smi\", smiles)\n",
    "    # add hydrogens at given pH\n",
    "    molecule.OBMol.CorrectForPH(pH)\n",
    "    molecule.addh()\n",
    "    # generate 3D coordinates\n",
    "    molecule.make3D(forcefield=\"mmff94s\", steps=10000)\n",
    "    # add partial charges to each atom\n",
    "    for atom in molecule.atoms:\n",
    "        atom.OBAtom.GetPartialCharge()\n",
    "    molecule.write(\"pdbqt\", str(pdbqt_path), overwrite=True)\n",
    "    return"
   ]
  },
  {
   "cell_type": "code",
   "execution_count": null,
   "id": "3afd4562",
   "metadata": {},
   "outputs": [],
   "source": [
    "# convert the ligand into PDBQT format\n",
    "smiles_to_pdbqt(smiles, DATA / \"1os5ligand.pdbqt\")"
   ]
  },
  {
   "cell_type": "code",
   "execution_count": 23,
   "id": "504acf9d",
   "metadata": {},
   "outputs": [],
   "source": [
    "ligand_resname = \"xnc\"\n",
    "ligand = structure.select_atoms(f\"resname {ligand_resname}\")\n",
    "pocket_center = np.array([24   , -1, 45   ])\n",
    "pocket_size = np.array([76, 52.0, 60.105999])"
   ]
  },
  {
   "cell_type": "code",
   "execution_count": 16,
   "id": "4fe199c5",
   "metadata": {},
   "outputs": [
    {
     "data": {
      "text/plain": [
       "array([40.202003, 58.      , 40.105999])"
      ]
     },
     "execution_count": 16,
     "metadata": {},
     "output_type": "execute_result"
    }
   ],
   "source": [
    "pocket_size"
   ]
  },
  {
   "cell_type": "code",
   "execution_count": 18,
   "id": "2b4fa7fb",
   "metadata": {},
   "outputs": [],
   "source": [
    "def run_smina(\n",
    "    ligand_path, protein_path, out_path, pocket_center, pocket_size, num_poses=10, exhaustiveness=24\n",
    "):\n",
    "    \"\"\"\n",
    "    Perform docking with Smina.\n",
    "\n",
    "    Parameters\n",
    "    ----------\n",
    "    ligand_path: str or pathlib.Path\n",
    "        Path to ligand PDBQT file that should be docked.\n",
    "    protein_path: str or pathlib.Path\n",
    "        Path to protein PDBQT file that should be docked to.\n",
    "    out_path: str or pathlib.Path\n",
    "        Path to which docking poses should be saved, SDF or PDB format.\n",
    "    pocket_center: iterable of float or int\n",
    "        Coordinates defining the center of the binding site.\n",
    "    pocket_size: iterable of float or int\n",
    "        Lengths of edges defining the binding site.\n",
    "    num_poses: int\n",
    "        Maximum number of poses to generate.\n",
    "    exhaustiveness: int\n",
    "        Accuracy of docking calculations.\n",
    "\n",
    "    Returns\n",
    "    -------\n",
    "    output_text: str\n",
    "        The output of the Smina calculation.\n",
    "    \"\"\"\n",
    "    output_text = subprocess.check_output(\n",
    "        [\n",
    "            \"smina\",\n",
    "            \"--ligand\",\n",
    "            str(ligand_path),\n",
    "            \"--receptor\",\n",
    "            str(protein_path),\n",
    "            \"--out\",\n",
    "            str(out_path),\n",
    "            \"--center_x\",\n",
    "            str(pocket_center[0]),\n",
    "            \"--center_y\",\n",
    "            str(pocket_center[1]),\n",
    "            \"--center_z\",\n",
    "            str(pocket_center[2]),\n",
    "            \"--size_x\",\n",
    "            str(pocket_size[0]),\n",
    "            \"--size_y\",\n",
    "            str(pocket_size[1]),\n",
    "            \"--size_z\",\n",
    "            str(pocket_size[2]),\n",
    "            \"--num_modes\",\n",
    "            str(num_poses),\n",
    "            \"--exhaustiveness\",\n",
    "            str(exhaustiveness),\n",
    "        ],\n",
    "        universal_newlines=True,  # needed to capture output text\n",
    "    )\n",
    "    return output_text"
   ]
  },
  {
   "cell_type": "code",
   "execution_count": 24,
   "id": "a3efb29f",
   "metadata": {},
   "outputs": [
    {
     "name": "stdout",
     "output_type": "stream",
     "text": [
      "   _______  _______ _________ _        _______ \n",
      "  (  ____ \\(       )\\__   __/( (    /|(  ___  )\n",
      "  | (    \\/| () () |   ) (   |  \\  ( || (   ) |\n",
      "  | (_____ | || || |   | |   |   \\ | || (___) |\n",
      "  (_____  )| |(_)| |   | |   | (\\ \\) ||  ___  |\n",
      "        ) || |   | |   | |   | | \\   || (   ) |\n",
      "  /\\____) || )   ( |___) (___| )  \\  || )   ( |\n",
      "  \\_______)|/     \\|\\_______/|/    )_)|/     \\|\n",
      "\n",
      "\n",
      "smina is based off AutoDock Vina. Please cite appropriately.\n",
      "\n",
      "Weights      Terms\n",
      "-0.035579    gauss(o=0,_w=0.5,_c=8)\n",
      "-0.005156    gauss(o=3,_w=2,_c=8)\n",
      "0.840245     repulsion(o=0,_c=8)\n",
      "-0.035069    hydrophobic(g=0.5,_b=1.5,_c=8)\n",
      "-0.587439    non_dir_h_bond(g=-0.7,_b=0,_c=8)\n",
      "1.923        num_tors_div\n",
      "\n",
      "Using random seed: -352996312\n",
      "\n",
      "0%   10   20   30   40   50   60   70   80   90   100%\n",
      "|----|----|----|----|----|----|----|----|----|----|\n",
      "***************************************************\n",
      "\n",
      "mode |   affinity | dist from best mode\n",
      "     | (kcal/mol) | rmsd l.b.| rmsd u.b.\n",
      "-----+------------+----------+----------\n",
      "1       -10.4      0.000      0.000    \n",
      "2       -10.2      1.867      2.562    \n",
      "3       -10.2      2.465      5.815    \n",
      "4       -10.1      15.928     18.303   \n",
      "5       -9.9       3.433      8.071    \n",
      "6       -9.8       2.659      7.728    \n",
      "7       -9.8       2.875      7.472    \n",
      "8       -9.7       15.186     18.199   \n",
      "9       -9.7       2.773      3.867    \n",
      "10      -9.6       2.114      2.749    \n",
      "Refine time 48.121\n",
      "Loop time 60.446\n",
      "\n"
     ]
    }
   ],
   "source": [
    "output_text = run_smina(\n",
    "    DATA / \"XNC.pdbqt\",\n",
    "    DATA / \"3GNW_protein.pdbqt\",\n",
    "    DATA / \"3GNWdocking_poses.sdf\",\n",
    "    pocket_center,\n",
    "    pocket_size,\n",
    ")\n",
    "print(output_text)"
   ]
  },
  {
   "cell_type": "code",
   "execution_count": null,
   "id": "9ce6252c",
   "metadata": {},
   "outputs": [],
   "source": [
    "def split_sdf_file(sdf_path):\n",
    "    \"\"\"\n",
    "    Split an SDF file into seperate files for each molecule.\n",
    "    Each file is named with consecutive numbers.\n",
    "\n",
    "    Parameters\n",
    "    ----------\n",
    "    sdf_path: str or pathlib.Path\n",
    "        Path to SDF file that should be split.\n",
    "    \"\"\"\n",
    "    sdf_path = Path(sdf_path)\n",
    "    stem = sdf_path.stem\n",
    "    parent = sdf_path.parent\n",
    "    molecules = pybel.readfile(\"sdf\", str(sdf_path))\n",
    "    for i, molecule in enumerate(molecules, 1):\n",
    "        molecule.write(\"sdf\", str(parent / f\"{stem}_{i}.sdf\"), overwrite=True)\n",
    "    return"
   ]
  },
  {
   "cell_type": "code",
   "execution_count": null,
   "id": "859ab0aa",
   "metadata": {},
   "outputs": [],
   "source": [
    "split_sdf_file(DATA / \"1os5docking_poses.sdf\")"
   ]
  },
  {
   "cell_type": "code",
   "execution_count": null,
   "id": "e3beb797",
   "metadata": {},
   "outputs": [],
   "source": [
    "docking_pose_id = 1\n",
    "view = nv.show_structure_file(\n",
    "    str(DATA / f\"1os5docking_poses_{docking_pose_id}.sdf\"),\n",
    "    representations=[{\"params\": {}, \"type\": \"licorice\"}],\n",
    ")\n",
    "view.add_pdbid(pdb_id)\n",
    "view"
   ]
  },
  {
   "cell_type": "code",
   "execution_count": null,
   "id": "1911a3b3",
   "metadata": {},
   "outputs": [],
   "source": [
    "view.render_image(trim=True, factor=2);"
   ]
  },
  {
   "cell_type": "code",
   "execution_count": null,
   "id": "a3f351e6",
   "metadata": {},
   "outputs": [],
   "source": [
    "view._display_image()"
   ]
  },
  {
   "cell_type": "code",
   "execution_count": null,
   "id": "7ba08740",
   "metadata": {},
   "outputs": [],
   "source": []
  }
 ],
 "metadata": {
  "kernelspec": {
   "display_name": "Python 3 (ipykernel)",
   "language": "python",
   "name": "python3"
  },
  "language_info": {
   "codemirror_mode": {
    "name": "ipython",
    "version": 3
   },
   "file_extension": ".py",
   "mimetype": "text/x-python",
   "name": "python",
   "nbconvert_exporter": "python",
   "pygments_lexer": "ipython3",
   "version": "3.8.13"
  }
 },
 "nbformat": 4,
 "nbformat_minor": 5
}
