{
 "cells": [
  {
   "cell_type": "code",
   "execution_count": 3,
   "id": "98d54ae6",
   "metadata": {},
   "outputs": [
    {
     "ename": "TypeError",
     "evalue": "__init__() missing 1 required positional argument: 'smiles_field'",
     "output_type": "error",
     "traceback": [
      "\u001b[0;31m---------------------------------------------------------------------------\u001b[0m",
      "\u001b[0;31mTypeError\u001b[0m                                 Traceback (most recent call last)",
      "Cell \u001b[0;32mIn[3], line 4\u001b[0m\n\u001b[1;32m      1\u001b[0m \u001b[38;5;28;01mfrom\u001b[39;00m \u001b[38;5;21;01mdeepmol\u001b[39;00m\u001b[38;5;21;01m.\u001b[39;00m\u001b[38;5;21;01mloaders\u001b[39;00m\u001b[38;5;21;01m.\u001b[39;00m\u001b[38;5;21;01mloaders\u001b[39;00m \u001b[38;5;28;01mimport\u001b[39;00m CSVLoader\n\u001b[1;32m      3\u001b[0m \u001b[38;5;66;03m# load a dataset from a CSV (required fields: dataset_path and smiles_field)\u001b[39;00m\n\u001b[0;32m----> 4\u001b[0m loader \u001b[38;5;241m=\u001b[39m \u001b[43mCSVLoader\u001b[49m\u001b[43m(\u001b[49m\u001b[43mdataset_path\u001b[49m\u001b[38;5;241;43m=\u001b[39;49m\u001b[38;5;124;43m'\u001b[39;49m\u001b[38;5;124;43mdata8625-2030-2603.csv\u001b[39;49m\u001b[38;5;124;43m'\u001b[39;49m\u001b[43m,\u001b[49m\n\u001b[1;32m      5\u001b[0m \u001b[43m                   \u001b[49m\u001b[38;5;66;43;03m#smiles_field='smiles',\u001b[39;49;00m\n\u001b[1;32m      6\u001b[0m \u001b[43m                   \u001b[49m\u001b[38;5;66;43;03m#id_field='ids',\u001b[39;49;00m\n\u001b[1;32m      7\u001b[0m \u001b[43m                   \u001b[49m\u001b[38;5;66;43;03m#labels_fields=['n'],\u001b[39;49;00m\n\u001b[1;32m      8\u001b[0m \u001b[43m                   \u001b[49m\u001b[43mfeatures_fields\u001b[49m\u001b[38;5;241;43m=\u001b[39;49m\u001b[43m[\u001b[49m\u001b[38;5;124;43m'\u001b[39;49m\u001b[38;5;124;43mMolecule ChEMBL ID\u001b[39;49m\u001b[38;5;124;43m'\u001b[39;49m\u001b[43m,\u001b[49m\u001b[43m \u001b[49m\u001b[38;5;124;43m'\u001b[39;49m\u001b[38;5;124;43mSmiles\u001b[39;49m\u001b[38;5;124;43m'\u001b[39;49m\u001b[43m,\u001b[49m\u001b[43m \u001b[49m\u001b[38;5;124;43m'\u001b[39;49m\u001b[38;5;124;43mStandard Value\u001b[39;49m\u001b[38;5;124;43m'\u001b[39;49m\u001b[43m]\u001b[49m\u001b[43m,\u001b[49m\n\u001b[1;32m      9\u001b[0m \u001b[43m                   \u001b[49m\u001b[43mshard_size\u001b[49m\u001b[38;5;241;43m=\u001b[39;49m\u001b[38;5;241;43m1000\u001b[39;49m\u001b[43m,\u001b[49m\n\u001b[1;32m     10\u001b[0m \u001b[43m                   \u001b[49m\u001b[43mmode\u001b[49m\u001b[38;5;241;43m=\u001b[39;49m\u001b[38;5;124;43m'\u001b[39;49m\u001b[38;5;124;43mauto\u001b[39;49m\u001b[38;5;124;43m'\u001b[39;49m\u001b[43m)\u001b[49m\n\u001b[1;32m     12\u001b[0m dataset \u001b[38;5;241m=\u001b[39m loader\u001b[38;5;241m.\u001b[39mcreate_dataset()\n\u001b[1;32m     14\u001b[0m \u001b[38;5;66;03m# print shape of the dataset (molecules, X, y)\u001b[39;00m\n",
      "\u001b[0;31mTypeError\u001b[0m: __init__() missing 1 required positional argument: 'smiles_field'"
     ]
    }
   ],
   "source": [
    "from deepmol.loaders.loaders import CSVLoader\n",
    "\n",
    "# load a dataset from a CSV (required fields: dataset_path and smiles_field)\n",
    "loader = CSVLoader(dataset_path='data8625-2030-2603.csv',\n",
    "                   #smiles_field='smiles',\n",
    "                   #id_field='ids',\n",
    "                   #labels_fields=['n'],\n",
    "                   features_fields=['Molecule ChEMBL ID', 'Smiles', 'Standard Value'],\n",
    "                   shard_size=1000,\n",
    "                   mode='auto')\n",
    "\n",
    "dataset = loader.create_dataset()\n",
    "\n",
    "# print shape of the dataset (molecules, X, y)\n",
    "dataset.get_shape()\n",
    "\n",
    "((1000,), None, (1000,))"
   ]
  },
  {
   "cell_type": "code",
   "execution_count": 4,
   "id": "9637bba2",
   "metadata": {},
   "outputs": [],
   "source": [
    "def label_by_ic50(molecule):\n",
    "    # 获取分子的IC50属性，如果没有则返回None\n",
    "    ic50 = molecule.GetProp('IC50')\n",
    "    if ic50 is None:\n",
    "        return None\n",
    "    # 将IC50属性转换为浮点数\n",
    "    ic50 = float(ic50)\n",
    "    # 根据IC50值的范围返回标签\n",
    "    if ic50 <= 5000:\n",
    "        return 'Active'\n",
    "    elif ic50 >= 5001:\n",
    "        return 'Inactive'\n",
    "    else:\n",
    "        return None"
   ]
  },
  {
   "cell_type": "code",
   "execution_count": null,
   "id": "b1965fbc",
   "metadata": {},
   "outputs": [],
   "source": [
    "from DeepMol.preprocessing import CompoundFeaturizer"
   ]
  },
  {
   "cell_type": "code",
   "execution_count": 5,
   "id": "c527fe9b",
   "metadata": {},
   "outputs": [
    {
     "ename": "NameError",
     "evalue": "name 'DeepMol' is not defined",
     "output_type": "error",
     "traceback": [
      "\u001b[0;31m---------------------------------------------------------------------------\u001b[0m",
      "\u001b[0;31mNameError\u001b[0m                                 Traceback (most recent call last)",
      "Cell \u001b[0;32mIn[5], line 1\u001b[0m\n\u001b[0;32m----> 1\u001b[0m dataset \u001b[38;5;241m=\u001b[39m \u001b[43mDeepMol\u001b[49m\u001b[38;5;241m.\u001b[39mload_molecules(\u001b[38;5;124m'\u001b[39m\u001b[38;5;124mdata8625-2030-2603.csv\u001b[39m\u001b[38;5;124m'\u001b[39m)\n\u001b[1;32m      3\u001b[0m \u001b[38;5;66;03m# 使用定义好的函数，对分子数据集进行分类\u001b[39;00m\n\u001b[1;32m      4\u001b[0m dataset \u001b[38;5;241m=\u001b[39m DeepMol\u001b[38;5;241m.\u001b[39mlabel_molecules(dataset, label_by_ic50)\n",
      "\u001b[0;31mNameError\u001b[0m: name 'DeepMol' is not defined"
     ]
    }
   ],
   "source": [
    "dataset = DeepMol.load_molecules('data8625-2030-2603.csv')\n",
    "\n",
    "# 使用定义好的函数，对分子数据集进行分类\n",
    "dataset = DeepMol.label_molecules(dataset, label_by_ic50)\n",
    "\n",
    "# 查看分子数据集的标签分布\n",
    "dataset.label_distribution()"
   ]
  },
  {
   "cell_type": "markdown",
   "id": "3bb91de9",
   "metadata": {},
   "source": [
    "现在，你来扮演数据分析师。用deepmol处理一份csv表格，csv里包含了三列：‘CompoundsName’，“Smiles”，‘IC50’。你需要根据IC50值将他们归为两类：Active molecules，inactive molecules。IC50<=5000 nM, 被deepmol归类为Active molecules；IC50>=5001 nM, 被deepmol归类为Active molecules。给出符合以上要求的代码"
   ]
  },
  {
   "cell_type": "code",
   "execution_count": 16,
   "id": "3b9bc71b",
   "metadata": {},
   "outputs": [],
   "source": [
    "import pandas as pd\n",
    "from deepmol import utils\n",
    "df = pd.read_csv('data8625-2030-2603.csv')\n",
    "df['IC50'] = pd.to_numeric(df['IC50'], errors='coerce')\n",
    "\n",
    "def classify_ic50(ic50):\n",
    "    if ic50 <= 5000:\n",
    "        return 'Active molecules'\n",
    "    else:\n",
    "        return 'Inactive molecules'\n",
    "\n",
    "df['Classification'] = df['IC50'].apply(classify_ic50)\n",
    "\n",
    "df.to_csv('palm1_classify',index=False)"
   ]
  },
  {
   "cell_type": "code",
   "execution_count": 18,
   "id": "8fdff079",
   "metadata": {},
   "outputs": [
    {
     "ename": "ImportError",
     "evalue": "cannot import name 'DeepmolModel' from 'deepmol' (/home/mxc/anaconda3/envs/opencadd/lib/python3.8/site-packages/deepmol/__init__.py)",
     "output_type": "error",
     "traceback": [
      "\u001b[0;31m---------------------------------------------------------------------------\u001b[0m",
      "\u001b[0;31mImportError\u001b[0m                               Traceback (most recent call last)",
      "Cell \u001b[0;32mIn[18], line 3\u001b[0m\n\u001b[1;32m      1\u001b[0m \u001b[38;5;28;01mimport\u001b[39;00m \u001b[38;5;21;01mpandas\u001b[39;00m \u001b[38;5;28;01mas\u001b[39;00m \u001b[38;5;21;01mpd\u001b[39;00m\n\u001b[1;32m      2\u001b[0m \u001b[38;5;28;01mfrom\u001b[39;00m \u001b[38;5;21;01mdeepmol\u001b[39;00m \u001b[38;5;28;01mimport\u001b[39;00m utils\n\u001b[0;32m----> 3\u001b[0m \u001b[38;5;28;01mfrom\u001b[39;00m \u001b[38;5;21;01mdeepmol\u001b[39;00m \u001b[38;5;28;01mimport\u001b[39;00m DeepmolModel\n\u001b[1;32m      5\u001b[0m df \u001b[38;5;241m=\u001b[39m pd\u001b[38;5;241m.\u001b[39mread_csv(\u001b[38;5;124m'\u001b[39m\u001b[38;5;124myour_file.csv\u001b[39m\u001b[38;5;124m'\u001b[39m)\n\u001b[1;32m      6\u001b[0m df[\u001b[38;5;124m'\u001b[39m\u001b[38;5;124mIC50\u001b[39m\u001b[38;5;124m'\u001b[39m] \u001b[38;5;241m=\u001b[39m pd\u001b[38;5;241m.\u001b[39mto_numeric(df[\u001b[38;5;124m'\u001b[39m\u001b[38;5;124mIC50\u001b[39m\u001b[38;5;124m'\u001b[39m], errors\u001b[38;5;241m=\u001b[39m\u001b[38;5;124m'\u001b[39m\u001b[38;5;124mcoerce\u001b[39m\u001b[38;5;124m'\u001b[39m)\n",
      "\u001b[0;31mImportError\u001b[0m: cannot import name 'DeepmolModel' from 'deepmol' (/home/mxc/anaconda3/envs/opencadd/lib/python3.8/site-packages/deepmol/__init__.py)"
     ]
    }
   ],
   "source": [
    "import pandas as pd\n",
    "from deepmol import utils\n",
    "from deepmol import DeepmolModel\n",
    "\n",
    "df = pd.read_csv('your_file.csv')\n",
    "df['IC50'] = pd.to_numeric(df['IC50'], errors='coerce')\n",
    "\n",
    "def classify_ic50(ic50):\n",
    "    if ic50 <= 5000:\n",
    "        return 'Active molecules'\n",
    "    else:\n",
    "        return 'Inactive molecules'\n",
    "\n",
    "df['Classification'] = df['IC50'].apply(classify_ic50)\n",
    "\n",
    "model = DeepmolModel()\n",
    "model.fit(df['Smiles'], df['Classification'])\n",
    "predictions = model.predict(df['Smiles'])\n",
    "\n",
    "print(predictions)"
   ]
  },
  {
   "cell_type": "code",
   "execution_count": 20,
   "id": "2f927f45",
   "metadata": {},
   "outputs": [
    {
     "name": "stderr",
     "output_type": "stream",
     "text": [
      "2023-04-13 15:44:31.151492: I tensorflow/core/platform/cpu_feature_guard.cc:193] This TensorFlow binary is optimized with oneAPI Deep Neural Network Library (oneDNN) to use the following CPU instructions in performance-critical operations:  AVX2 FMA\n",
      "To enable them in other operations, rebuild TensorFlow with the appropriate compiler flags.\n",
      "2023-04-13 15:44:31.374827: W tensorflow/stream_executor/platform/default/dso_loader.cc:64] Could not load dynamic library 'libcudart.so.11.0'; dlerror: libcudart.so.11.0: cannot open shared object file: No such file or directory\n",
      "2023-04-13 15:44:31.374849: I tensorflow/stream_executor/cuda/cudart_stub.cc:29] Ignore above cudart dlerror if you do not have a GPU set up on your machine.\n",
      "2023-04-13 15:44:31.416002: E tensorflow/stream_executor/cuda/cuda_blas.cc:2981] Unable to register cuBLAS factory: Attempting to register factory for plugin cuBLAS when one has already been registered\n",
      "2023-04-13 15:44:32.238233: W tensorflow/stream_executor/platform/default/dso_loader.cc:64] Could not load dynamic library 'libnvinfer.so.7'; dlerror: libnvinfer.so.7: cannot open shared object file: No such file or directory\n",
      "2023-04-13 15:44:32.238313: W tensorflow/stream_executor/platform/default/dso_loader.cc:64] Could not load dynamic library 'libnvinfer_plugin.so.7'; dlerror: libnvinfer_plugin.so.7: cannot open shared object file: No such file or directory\n",
      "2023-04-13 15:44:32.238318: W tensorflow/compiler/tf2tensorrt/utils/py_utils.cc:38] TF-TRT Warning: Cannot dlopen some TensorRT libraries. If you would like to use Nvidia GPU with TensorRT, please make sure the missing libraries mentioned above are installed properly.\n"
     ]
    },
    {
     "ename": "AttributeError",
     "evalue": "module 'deepchem' has no attribute 'Mol'",
     "output_type": "error",
     "traceback": [
      "\u001b[0;31m---------------------------------------------------------------------------\u001b[0m",
      "\u001b[0;31mAttributeError\u001b[0m                            Traceback (most recent call last)",
      "Cell \u001b[0;32mIn[20], line 12\u001b[0m\n\u001b[1;32m      9\u001b[0m dataframe[\u001b[38;5;124m'\u001b[39m\u001b[38;5;124mClass\u001b[39m\u001b[38;5;124m'\u001b[39m] \u001b[38;5;241m=\u001b[39m dataframe[\u001b[38;5;124m'\u001b[39m\u001b[38;5;124mIC50\u001b[39m\u001b[38;5;124m'\u001b[39m]\u001b[38;5;241m.\u001b[39mapply(\u001b[38;5;28;01mlambda\u001b[39;00m x: \u001b[38;5;124m'\u001b[39m\u001b[38;5;124mActive molecules\u001b[39m\u001b[38;5;124m'\u001b[39m \u001b[38;5;28;01mif\u001b[39;00m x \u001b[38;5;241m<\u001b[39m\u001b[38;5;241m=\u001b[39m \u001b[38;5;241m5000\u001b[39m \u001b[38;5;28;01melse\u001b[39;00m \u001b[38;5;124m'\u001b[39m\u001b[38;5;124mInactive molecules\u001b[39m\u001b[38;5;124m'\u001b[39m)\n\u001b[1;32m     11\u001b[0m \u001b[38;5;66;03m# 将分子从SMILES字符串转化为DeepMol分子对象\u001b[39;00m\n\u001b[0;32m---> 12\u001b[0m molecules \u001b[38;5;241m=\u001b[39m [dc\u001b[38;5;241m.\u001b[39mMol\u001b[38;5;241m.\u001b[39mfrom_smiles(smiles) \u001b[38;5;28;01mfor\u001b[39;00m smiles \u001b[38;5;129;01min\u001b[39;00m dataframe[\u001b[38;5;124m'\u001b[39m\u001b[38;5;124mSmiles\u001b[39m\u001b[38;5;124m'\u001b[39m]]\n\u001b[1;32m     14\u001b[0m \u001b[38;5;66;03m# 对于二分类任务，我们可以使用deepchem库的GraphConvModel\u001b[39;00m\n\u001b[1;32m     15\u001b[0m \u001b[38;5;66;03m# 首先，我们需要准备数据集\u001b[39;00m\n\u001b[1;32m     16\u001b[0m graph_featurizer \u001b[38;5;241m=\u001b[39m dc\u001b[38;5;241m.\u001b[39mfeat\u001b[38;5;241m.\u001b[39mConvMolFeaturizer()\n",
      "Cell \u001b[0;32mIn[20], line 12\u001b[0m, in \u001b[0;36m<listcomp>\u001b[0;34m(.0)\u001b[0m\n\u001b[1;32m      9\u001b[0m dataframe[\u001b[38;5;124m'\u001b[39m\u001b[38;5;124mClass\u001b[39m\u001b[38;5;124m'\u001b[39m] \u001b[38;5;241m=\u001b[39m dataframe[\u001b[38;5;124m'\u001b[39m\u001b[38;5;124mIC50\u001b[39m\u001b[38;5;124m'\u001b[39m]\u001b[38;5;241m.\u001b[39mapply(\u001b[38;5;28;01mlambda\u001b[39;00m x: \u001b[38;5;124m'\u001b[39m\u001b[38;5;124mActive molecules\u001b[39m\u001b[38;5;124m'\u001b[39m \u001b[38;5;28;01mif\u001b[39;00m x \u001b[38;5;241m<\u001b[39m\u001b[38;5;241m=\u001b[39m \u001b[38;5;241m5000\u001b[39m \u001b[38;5;28;01melse\u001b[39;00m \u001b[38;5;124m'\u001b[39m\u001b[38;5;124mInactive molecules\u001b[39m\u001b[38;5;124m'\u001b[39m)\n\u001b[1;32m     11\u001b[0m \u001b[38;5;66;03m# 将分子从SMILES字符串转化为DeepMol分子对象\u001b[39;00m\n\u001b[0;32m---> 12\u001b[0m molecules \u001b[38;5;241m=\u001b[39m [\u001b[43mdc\u001b[49m\u001b[38;5;241;43m.\u001b[39;49m\u001b[43mMol\u001b[49m\u001b[38;5;241m.\u001b[39mfrom_smiles(smiles) \u001b[38;5;28;01mfor\u001b[39;00m smiles \u001b[38;5;129;01min\u001b[39;00m dataframe[\u001b[38;5;124m'\u001b[39m\u001b[38;5;124mSmiles\u001b[39m\u001b[38;5;124m'\u001b[39m]]\n\u001b[1;32m     14\u001b[0m \u001b[38;5;66;03m# 对于二分类任务，我们可以使用deepchem库的GraphConvModel\u001b[39;00m\n\u001b[1;32m     15\u001b[0m \u001b[38;5;66;03m# 首先，我们需要准备数据集\u001b[39;00m\n\u001b[1;32m     16\u001b[0m graph_featurizer \u001b[38;5;241m=\u001b[39m dc\u001b[38;5;241m.\u001b[39mfeat\u001b[38;5;241m.\u001b[39mConvMolFeaturizer()\n",
      "\u001b[0;31mAttributeError\u001b[0m: module 'deepchem' has no attribute 'Mol'"
     ]
    }
   ],
   "source": [
    "import pandas as pd\n",
    "import deepchem as dc\n",
    "\n",
    "# 读取CSV文件\n",
    "data_file = \"data8625-2030-2603.csv\"\n",
    "dataframe = pd.read_csv(data_file)\n",
    "\n",
    "# 根据IC50值将分子分为活性分子和非活性分子\n",
    "dataframe['Class'] = dataframe['IC50'].apply(lambda x: 'Active molecules' if x <= 5000 else 'Inactive molecules')\n",
    "\n",
    "# 将分子从SMILES字符串转化为DeepMol分子对象\n",
    "molecules = [dc.Mol.from_smiles(smiles) for smiles in dataframe['Smiles']]\n",
    "\n",
    "# 对于二分类任务，我们可以使用deepchem库的GraphConvModel\n",
    "# 首先，我们需要准备数据集\n",
    "graph_featurizer = dc.feat.ConvMolFeaturizer()\n",
    "X = graph_featurizer.featurize(molecules)\n",
    "\n",
    "# 使用'MultiTaskClassifier'将活性/非活性作为目标进行LabelEncoder处理\n",
    "from sklearn.preprocessing import LabelEncoder\n",
    "le = LabelEncoder()\n",
    "y = le.fit_transform(dataframe['Class'])\n",
    "\n",
    "# 构建数据集：DeepMol对象，活性/非活性（分类结果），阈值为0.5\n",
    "dataset = dc.data.NumpyDataset(X, y)\n",
    "splitter = dc.splits.RandomStratifiedSplitter()\n",
    "train_dataset, valid_dataset, test_dataset = splitter.train_valid_test_split(dataset)\n",
    "\n",
    "# 使用图卷积模型进行分类\n",
    "model = dc.models.GraphConvModel(1, mode='classification', batch_normalize=True)\n",
    "model.fit(train_dataset)\n",
    "\n",
    "# 检查分类准确性\n",
    "metric = dc.metrics.Metric(dc.metrics.accuracy_score)\n",
    "train_scores = model.evaluate(train_dataset, [metric])\n",
    "valid_scores = model.evaluate(valid_dataset, [metric])\n",
    "test_scores = model.evaluate(test_dataset, [metric])\n",
    "\n",
    "print('Training accuracy: ', train_scores)\n",
    "print('Validation accuracy: ', valid_scores)\n",
    "print('Test accuracy: ', test_scores)\n"
   ]
  },
  {
   "cell_type": "code",
   "execution_count": 24,
   "id": "cf0736c8",
   "metadata": {},
   "outputs": [
    {
     "ename": "AttributeError",
     "evalue": "module 'deepchem' has no attribute 'Mol'",
     "output_type": "error",
     "traceback": [
      "\u001b[0;31m---------------------------------------------------------------------------\u001b[0m",
      "\u001b[0;31mAttributeError\u001b[0m                            Traceback (most recent call last)",
      "Cell \u001b[0;32mIn[24], line 14\u001b[0m\n\u001b[1;32m     11\u001b[0m dataframe[\u001b[38;5;124m'\u001b[39m\u001b[38;5;124mClass\u001b[39m\u001b[38;5;124m'\u001b[39m] \u001b[38;5;241m=\u001b[39m dataframe[\u001b[38;5;124m'\u001b[39m\u001b[38;5;124mIC50\u001b[39m\u001b[38;5;124m'\u001b[39m]\u001b[38;5;241m.\u001b[39mapply(\u001b[38;5;28;01mlambda\u001b[39;00m x: \u001b[38;5;124m'\u001b[39m\u001b[38;5;124mActive molecules\u001b[39m\u001b[38;5;124m'\u001b[39m \u001b[38;5;28;01mif\u001b[39;00m x \u001b[38;5;241m<\u001b[39m\u001b[38;5;241m=\u001b[39m \u001b[38;5;241m5000\u001b[39m \u001b[38;5;28;01melse\u001b[39;00m \u001b[38;5;124m'\u001b[39m\u001b[38;5;124mInactive molecules\u001b[39m\u001b[38;5;124m'\u001b[39m)\n\u001b[1;32m     13\u001b[0m \u001b[38;5;66;03m# 使用deepchem将分子从SMILES字符串转化为RDKit的分子对象\u001b[39;00m\n\u001b[0;32m---> 14\u001b[0m molecules \u001b[38;5;241m=\u001b[39m [dc\u001b[38;5;241m.\u001b[39mMol\u001b[38;5;241m.\u001b[39mfrom_smiles(smiles) \u001b[38;5;28;01mfor\u001b[39;00m smiles \u001b[38;5;129;01min\u001b[39;00m dataframe[\u001b[38;5;124m'\u001b[39m\u001b[38;5;124mSmiles\u001b[39m\u001b[38;5;124m'\u001b[39m]]\n\u001b[1;32m     16\u001b[0m \u001b[38;5;66;03m# 使用DeepMol的特征提取器生成描述符矩阵\u001b[39;00m\n\u001b[1;32m     17\u001b[0m fingerprinter \u001b[38;5;241m=\u001b[39m loader\u001b[38;5;241m.\u001b[39mFingerprinter(fp_type\u001b[38;5;241m=\u001b[39m\u001b[38;5;124m\"\u001b[39m\u001b[38;5;124mtopological\u001b[39m\u001b[38;5;124m\"\u001b[39m)\n",
      "Cell \u001b[0;32mIn[24], line 14\u001b[0m, in \u001b[0;36m<listcomp>\u001b[0;34m(.0)\u001b[0m\n\u001b[1;32m     11\u001b[0m dataframe[\u001b[38;5;124m'\u001b[39m\u001b[38;5;124mClass\u001b[39m\u001b[38;5;124m'\u001b[39m] \u001b[38;5;241m=\u001b[39m dataframe[\u001b[38;5;124m'\u001b[39m\u001b[38;5;124mIC50\u001b[39m\u001b[38;5;124m'\u001b[39m]\u001b[38;5;241m.\u001b[39mapply(\u001b[38;5;28;01mlambda\u001b[39;00m x: \u001b[38;5;124m'\u001b[39m\u001b[38;5;124mActive molecules\u001b[39m\u001b[38;5;124m'\u001b[39m \u001b[38;5;28;01mif\u001b[39;00m x \u001b[38;5;241m<\u001b[39m\u001b[38;5;241m=\u001b[39m \u001b[38;5;241m5000\u001b[39m \u001b[38;5;28;01melse\u001b[39;00m \u001b[38;5;124m'\u001b[39m\u001b[38;5;124mInactive molecules\u001b[39m\u001b[38;5;124m'\u001b[39m)\n\u001b[1;32m     13\u001b[0m \u001b[38;5;66;03m# 使用deepchem将分子从SMILES字符串转化为RDKit的分子对象\u001b[39;00m\n\u001b[0;32m---> 14\u001b[0m molecules \u001b[38;5;241m=\u001b[39m [\u001b[43mdc\u001b[49m\u001b[38;5;241;43m.\u001b[39;49m\u001b[43mMol\u001b[49m\u001b[38;5;241m.\u001b[39mfrom_smiles(smiles) \u001b[38;5;28;01mfor\u001b[39;00m smiles \u001b[38;5;129;01min\u001b[39;00m dataframe[\u001b[38;5;124m'\u001b[39m\u001b[38;5;124mSmiles\u001b[39m\u001b[38;5;124m'\u001b[39m]]\n\u001b[1;32m     16\u001b[0m \u001b[38;5;66;03m# 使用DeepMol的特征提取器生成描述符矩阵\u001b[39;00m\n\u001b[1;32m     17\u001b[0m fingerprinter \u001b[38;5;241m=\u001b[39m loader\u001b[38;5;241m.\u001b[39mFingerprinter(fp_type\u001b[38;5;241m=\u001b[39m\u001b[38;5;124m\"\u001b[39m\u001b[38;5;124mtopological\u001b[39m\u001b[38;5;124m\"\u001b[39m)\n",
      "\u001b[0;31mAttributeError\u001b[0m: module 'deepchem' has no attribute 'Mol'"
     ]
    }
   ],
   "source": [
    "import numpy as np\n",
    "from deepchem.utils import *\n",
    "from deepmol import loaders\n",
    "from pathlib import Path\n",
    "\n",
    "# 读取CSV文件\n",
    "data_file = \"data8625-2030-2603.csv\"\n",
    "dataframe = pd.read_csv(data_file)\n",
    "\n",
    "# 根据IC50值将分子分为活性分子和非活性分子\n",
    "dataframe['Class'] = dataframe['IC50'].apply(lambda x: 'Active molecules' if x <= 5000 else 'Inactive molecules')\n",
    "\n",
    "# 使用deepchem将分子从SMILES字符串转化为RDKit的分子对象\n",
    "molecules = [dc.Mol.from_smiles(smiles) for smiles in dataframe['Smiles']]\n",
    "\n",
    "# 使用DeepMol的特征提取器生成描述符矩阵\n",
    "fingerprinter = loader.Fingerprinter(fp_type=\"topological\")\n",
    "X = fingerprinter.fit_transform(molecules)\n",
    "\n",
    "# 同样我们需要将活性/非活性作为目标进行LabelEncoder处理\n",
    "from sklearn.preprocessing import LabelEncoder\n",
    "le = LabelEncoder()\n",
    "y = le.fit_transform(dataframe['Class'])\n",
    "\n",
    "# 使用Scikit-learn库划分训练集和测试集\n",
    "from sklearn.model_selection import train_test_split\n",
    "X_train, X_test, y_train, y_test = train_test_split(X, y, test_size=0.2, random_state=42)\n",
    "\n",
    "# 使用随机森林分类器进行二分类\n",
    "from sklearn.ensemble import RandomForestClassifier\n",
    "\n",
    "rf = RandomForestClassifier(n_estimators=100)\n",
    "rf.fit(X_train, y_train)\n",
    "\n",
    "# 计算模型准确度\n",
    "train_accuracy = rf.score(X_train, y_train)\n",
    "test_accuracy = rf.score(X_test, y_test)\n",
    "\n",
    "print('Training accuracy:', train_accuracy)\n",
    "print('Test accuracy:', test_accuracy)\n"
   ]
  },
  {
   "cell_type": "code",
   "execution_count": 28,
   "id": "78afbe6c",
   "metadata": {},
   "outputs": [
    {
     "ename": "AttributeError",
     "evalue": "module 'deepmol.loaders' has no attribute 'Fingerprinter'",
     "output_type": "error",
     "traceback": [
      "\u001b[0;31m---------------------------------------------------------------------------\u001b[0m",
      "\u001b[0;31mAttributeError\u001b[0m                            Traceback (most recent call last)",
      "Cell \u001b[0;32mIn[28], line 19\u001b[0m\n\u001b[1;32m     16\u001b[0m molecules \u001b[38;5;241m=\u001b[39m [Chem\u001b[38;5;241m.\u001b[39mMolFromSmiles(smiles) \u001b[38;5;28;01mfor\u001b[39;00m smiles \u001b[38;5;129;01min\u001b[39;00m dataframe[\u001b[38;5;124m'\u001b[39m\u001b[38;5;124mSmiles\u001b[39m\u001b[38;5;124m'\u001b[39m]]\n\u001b[1;32m     18\u001b[0m \u001b[38;5;66;03m# 使用DeepMol的特征提取器生成描述符矩阵\u001b[39;00m\n\u001b[0;32m---> 19\u001b[0m fingerprinter \u001b[38;5;241m=\u001b[39m \u001b[43mloaders\u001b[49m\u001b[38;5;241;43m.\u001b[39;49m\u001b[43mFingerprinter\u001b[49m(fp_type\u001b[38;5;241m=\u001b[39m\u001b[38;5;124m\"\u001b[39m\u001b[38;5;124mtopological\u001b[39m\u001b[38;5;124m\"\u001b[39m)\n\u001b[1;32m     20\u001b[0m X \u001b[38;5;241m=\u001b[39m fingerprinter\u001b[38;5;241m.\u001b[39mfit_transform(molecules)\n\u001b[1;32m     22\u001b[0m \u001b[38;5;66;03m# 同样我们需要将活性/非活性作为目标进行LabelEncoder处理\u001b[39;00m\n",
      "\u001b[0;31mAttributeError\u001b[0m: module 'deepmol.loaders' has no attribute 'Fingerprinter'"
     ]
    }
   ],
   "source": [
    "import pandas as pd\n",
    "import numpy as np\n",
    "from deepmol import loaders\n",
    "from pathlib import Path\n",
    "from rdkit import Chem\n",
    "from rdkit.Chem import AllChem\n",
    "\n",
    "# 读取CSV文件\n",
    "data_file = \"data8625-2030-2603.csv\"\n",
    "dataframe = pd.read_csv(data_file)\n",
    "\n",
    "# 根据IC50值将分子分为活性分子和非活性分子\n",
    "dataframe['Class'] = dataframe['IC50'].apply(lambda x: 'Active molecules' if x <= 5000 else 'Inactive molecules')\n",
    "\n",
    "# 使用RDKit将分子从SMILES字符串转化为RDKit的分子对象\n",
    "molecules = [Chem.MolFromSmiles(smiles) for smiles in dataframe['Smiles']]\n",
    "\n",
    "# 使用DeepMol的特征提取器生成描述符矩阵\n",
    "fingerprinter = loaders.Fingerprinter(fp_type=\"topological\")\n",
    "X = fingerprinter.fit_transform(molecules)\n",
    "\n",
    "# 同样我们需要将活性/非活性作为目标进行LabelEncoder处理\n",
    "from sklearn.preprocessing import LabelEncoder\n",
    "le = LabelEncoder()\n",
    "y = le.fit_transform(dataframe['Class'])\n",
    "\n",
    "# 使用Scikit-learn库划分训练集和测试集\n",
    "from sklearn.model_selection import train_test_split\n",
    "X_train, X_test, y_train, y_test = train_test_split(X, y, test_size=0.2, random_state=42)\n",
    "\n",
    "# 使用随机森林分类器进行二分类\n",
    "from sklearn.ensemble import RandomForestClassifier\n",
    "\n",
    "rf = RandomForestClassifier(n_estimators=100)\n",
    "rf.fit(X_train, y_train)\n",
    "\n",
    "# 计算模型准确度\n",
    "train_accuracy = rf.score(X_train, y_train)\n",
    "test_accuracy = rf.score(X_test, y_test)\n",
    "\n",
    "print('Training accuracy:', train_accuracy)\n",
    "print('Test accuracy:', test_accuracy)\n"
   ]
  },
  {
   "cell_type": "code",
   "execution_count": null,
   "id": "6e619562",
   "metadata": {},
   "outputs": [],
   "source": [
    "mol = Chem.MolFromSmiles(smiles, sanitize=False)\n",
    "mol.UpdatePropertyCache(strict=False)\n",
    "Chem.SanitizeMol(mol, Chem.SANITIZE_ALL ^ Chem.SANITIZE_PROPERTIES, catchErrors=True)"
   ]
  }
 ],
 "metadata": {
  "kernelspec": {
   "display_name": "Python 3 (ipykernel)",
   "language": "python",
   "name": "python3"
  },
  "language_info": {
   "codemirror_mode": {
    "name": "ipython",
    "version": 3
   },
   "file_extension": ".py",
   "mimetype": "text/x-python",
   "name": "python",
   "nbconvert_exporter": "python",
   "pygments_lexer": "ipython3",
   "version": "3.8.13"
  }
 },
 "nbformat": 4,
 "nbformat_minor": 5
}
